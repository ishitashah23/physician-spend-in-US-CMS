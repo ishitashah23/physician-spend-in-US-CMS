{
 "cells": [
  {
   "cell_type": "markdown",
   "metadata": {},
   "source": [
    "# Background"
   ]
  },
  {
   "cell_type": "code",
   "execution_count": null,
   "metadata": {},
   "outputs": [],
   "source": []
  },
  {
   "cell_type": "markdown",
   "metadata": {},
   "source": [
    "# Analysis"
   ]
  },
  {
   "cell_type": "markdown",
   "metadata": {},
   "source": [
    "## 1. Importing libraries"
   ]
  },
  {
   "cell_type": "code",
   "execution_count": 3,
   "metadata": {},
   "outputs": [],
   "source": [
    "import numpy as np\n",
    "import pandas as pd\n",
    "import seaborn as sns\n",
    "import matplotlib.pyplot as plt\n",
    "import requests"
   ]
  },
  {
   "cell_type": "markdown",
   "metadata": {},
   "source": [
    "## 2. Importing data"
   ]
  },
  {
   "cell_type": "code",
   "execution_count": 62,
   "metadata": {},
   "outputs": [
    {
     "name": "stdout",
     "output_type": "stream",
     "text": [
      "<Response [200]>\n"
     ]
    }
   ],
   "source": [
    "url = \"https://data.cms.gov/data-api/v1/dataset/5fccd951-9538-48a7-9075-6f02b9867868/data?&offset=20000\"\n",
    "response = requests.get(url)\n",
    "print(response)"
   ]
  },
  {
   "cell_type": "code",
   "execution_count": 64,
   "metadata": {},
   "outputs": [
    {
     "data": {
      "text/plain": [
       "1000"
      ]
     },
     "execution_count": 64,
     "metadata": {},
     "output_type": "execute_result"
    }
   ],
   "source": [
    "len(response.json())"
   ]
  },
  {
   "cell_type": "code",
   "execution_count": 61,
   "metadata": {},
   "outputs": [
    {
     "data": {
      "text/html": [
       "<div>\n",
       "<style scoped>\n",
       "    .dataframe tbody tr th:only-of-type {\n",
       "        vertical-align: middle;\n",
       "    }\n",
       "\n",
       "    .dataframe tbody tr th {\n",
       "        vertical-align: top;\n",
       "    }\n",
       "\n",
       "    .dataframe thead th {\n",
       "        text-align: right;\n",
       "    }\n",
       "</style>\n",
       "<table border=\"1\" class=\"dataframe\">\n",
       "  <thead>\n",
       "    <tr style=\"text-align: right;\">\n",
       "      <th></th>\n",
       "      <th>Rndrng_NPI</th>\n",
       "      <th>Rndrng_Prvdr_Last_Org_Name</th>\n",
       "      <th>Rndrng_Prvdr_First_Name</th>\n",
       "      <th>Rndrng_Prvdr_MI</th>\n",
       "      <th>Rndrng_Prvdr_Crdntls</th>\n",
       "      <th>Rndrng_Prvdr_Gndr</th>\n",
       "      <th>Rndrng_Prvdr_Ent_Cd</th>\n",
       "      <th>Rndrng_Prvdr_St1</th>\n",
       "      <th>Rndrng_Prvdr_St2</th>\n",
       "      <th>Rndrng_Prvdr_City</th>\n",
       "      <th>...</th>\n",
       "      <th>HCPCS_Desc</th>\n",
       "      <th>HCPCS_Drug_Ind</th>\n",
       "      <th>Place_Of_Srvc</th>\n",
       "      <th>Tot_Benes</th>\n",
       "      <th>Tot_Srvcs</th>\n",
       "      <th>Tot_Bene_Day_Srvcs</th>\n",
       "      <th>Avg_Sbmtd_Chrg</th>\n",
       "      <th>Avg_Mdcr_Alowd_Amt</th>\n",
       "      <th>Avg_Mdcr_Pymt_Amt</th>\n",
       "      <th>Avg_Mdcr_Stdzd_Amt</th>\n",
       "    </tr>\n",
       "  </thead>\n",
       "  <tbody>\n",
       "    <tr>\n",
       "      <th>0</th>\n",
       "      <td>1003120338</td>\n",
       "      <td>Kondareddy</td>\n",
       "      <td>Sreekanth</td>\n",
       "      <td>R</td>\n",
       "      <td>MD</td>\n",
       "      <td>M</td>\n",
       "      <td>I</td>\n",
       "      <td>4417 Vestal Pkwy E</td>\n",
       "      <td></td>\n",
       "      <td>Vestal</td>\n",
       "      <td>...</td>\n",
       "      <td>Initial hospital inpatient care, typically 50 ...</td>\n",
       "      <td>N</td>\n",
       "      <td>F</td>\n",
       "      <td>76</td>\n",
       "      <td>76</td>\n",
       "      <td>76</td>\n",
       "      <td>279.20105263</td>\n",
       "      <td>134.00223684</td>\n",
       "      <td>105.72105263</td>\n",
       "      <td>107.66039474</td>\n",
       "    </tr>\n",
       "  </tbody>\n",
       "</table>\n",
       "<p>1 rows × 29 columns</p>\n",
       "</div>"
      ],
      "text/plain": [
       "   Rndrng_NPI Rndrng_Prvdr_Last_Org_Name Rndrng_Prvdr_First_Name  \\\n",
       "0  1003120338                 Kondareddy               Sreekanth   \n",
       "\n",
       "  Rndrng_Prvdr_MI Rndrng_Prvdr_Crdntls Rndrng_Prvdr_Gndr Rndrng_Prvdr_Ent_Cd  \\\n",
       "0               R                   MD                 M                   I   \n",
       "\n",
       "     Rndrng_Prvdr_St1 Rndrng_Prvdr_St2 Rndrng_Prvdr_City  ...  \\\n",
       "0  4417 Vestal Pkwy E                             Vestal  ...   \n",
       "\n",
       "                                          HCPCS_Desc HCPCS_Drug_Ind  \\\n",
       "0  Initial hospital inpatient care, typically 50 ...              N   \n",
       "\n",
       "  Place_Of_Srvc Tot_Benes Tot_Srvcs Tot_Bene_Day_Srvcs Avg_Sbmtd_Chrg  \\\n",
       "0             F        76        76                 76   279.20105263   \n",
       "\n",
       "  Avg_Mdcr_Alowd_Amt Avg_Mdcr_Pymt_Amt Avg_Mdcr_Stdzd_Amt  \n",
       "0       134.00223684      105.72105263       107.66039474  \n",
       "\n",
       "[1 rows x 29 columns]"
      ]
     },
     "execution_count": 61,
     "metadata": {},
     "output_type": "execute_result"
    }
   ],
   "source": [
    "df = pd.DataFrame(response.json())\n",
    "df.head(1)"
   ]
  },
  {
   "cell_type": "code",
   "execution_count": 89,
   "metadata": {},
   "outputs": [],
   "source": [
    "df = pd.read_csv('MUP_PHY_R21_P04_V10_D19_Prov_Svc.csv',nrows=50000)"
   ]
  },
  {
   "cell_type": "code",
   "execution_count": 90,
   "metadata": {},
   "outputs": [
    {
     "data": {
      "text/plain": [
       "(50000, 29)"
      ]
     },
     "execution_count": 90,
     "metadata": {},
     "output_type": "execute_result"
    }
   ],
   "source": [
    "df.shape"
   ]
  },
  {
   "cell_type": "code",
   "execution_count": 91,
   "metadata": {},
   "outputs": [
    {
     "name": "stdout",
     "output_type": "stream",
     "text": [
      "Number of unique providers:  5948\n"
     ]
    }
   ],
   "source": [
    "print('Number of unique providers: ',df['Rndrng_NPI'].nunique())"
   ]
  },
  {
   "cell_type": "markdown",
   "metadata": {},
   "source": [
    "Variables of interest - \n",
    "1. Tot_Benes = Beneficiary segments\n",
    "2. Avg_Mdcr_Stdzd_Amt = Payment segments "
   ]
  },
  {
   "cell_type": "code",
   "execution_count": 92,
   "metadata": {},
   "outputs": [],
   "source": [
    "#Changing default dtype from object to relevant numeric types\n",
    "df['Tot_Benes'] = df['Tot_Benes'].astype(int)\n",
    "df['Avg_Mdcr_Stdzd_Amt'] = df['Avg_Mdcr_Stdzd_Amt'].astype(float)"
   ]
  },
  {
   "cell_type": "code",
   "execution_count": 93,
   "metadata": {},
   "outputs": [
    {
     "name": "stdout",
     "output_type": "stream",
     "text": [
      "(5948,)\n"
     ]
    }
   ],
   "source": [
    "benefs = df.groupby('Rndrng_NPI').sum()['Tot_Benes']\n",
    "print(benefs.shape)"
   ]
  },
  {
   "cell_type": "code",
   "execution_count": 94,
   "metadata": {},
   "outputs": [
    {
     "name": "stdout",
     "output_type": "stream",
     "text": [
      "(5948,)\n"
     ]
    }
   ],
   "source": [
    "payments = df.groupby('Rndrng_NPI').sum()['Avg_Mdcr_Stdzd_Amt']\n",
    "print(payments.shape)"
   ]
  },
  {
   "cell_type": "markdown",
   "metadata": {},
   "source": [
    "## EDA and Cleaning Data "
   ]
  },
  {
   "cell_type": "code",
   "execution_count": 77,
   "metadata": {},
   "outputs": [
    {
     "data": {
      "text/plain": [
       "count     1979.000000\n",
       "mean       706.609904\n",
       "std       1249.908677\n",
       "min         11.000000\n",
       "25%        106.000000\n",
       "50%        330.000000\n",
       "75%        749.000000\n",
       "max      15794.000000\n",
       "Name: Tot_Benes, dtype: float64"
      ]
     },
     "execution_count": 77,
     "metadata": {},
     "output_type": "execute_result"
    }
   ],
   "source": [
    "benefs.describe()"
   ]
  },
  {
   "cell_type": "code",
   "execution_count": 76,
   "metadata": {},
   "outputs": [
    {
     "data": {
      "image/png": "[encoded data removed]",
      "text/plain": [
       "<Figure size 432x288 with 1 Axes>"
      ]
     },
     "metadata": {
      "needs_background": "light"
     },
     "output_type": "display_data"
    }
   ],
   "source": [
    "sns.boxplot(y=benefs,orient='Vertical');"
   ]
  },
  {
   "cell_type": "code",
   "execution_count": 83,
   "metadata": {},
   "outputs": [
    {
     "data": {
      "image/png": "[encoded data removed]",
      "text/plain": [
       "<Figure size 432x288 with 1 Axes>"
      ]
     },
     "metadata": {
      "needs_background": "light"
     },
     "output_type": "display_data"
    }
   ],
   "source": [
    "sns.histplot(benefs);"
   ]
  },
  {
   "cell_type": "markdown",
   "metadata": {},
   "source": [
    "# Key Takeaways "
   ]
  },
  {
   "cell_type": "code",
   "execution_count": null,
   "metadata": {},
   "outputs": [],
   "source": []
  }
 ],
 "metadata": {
  "kernelspec": {
   "display_name": "Python 3",
   "language": "python",
   "name": "python3"
  },
  "language_info": {
   "codemirror_mode": {
    "name": "ipython",
    "version": 3
   },
   "file_extension": ".py",
   "mimetype": "text/x-python",
   "name": "python",
   "nbconvert_exporter": "python",
   "pygments_lexer": "ipython3",
   "version": "3.8.5"
  }
 },
 "nbformat": 4,
 "nbformat_minor": 4
}
